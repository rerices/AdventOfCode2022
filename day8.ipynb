{
 "cells": [
  {
   "cell_type": "markdown",
   "source": [
    "# AoC 2022 - Day 8"
   ],
   "metadata": {
    "collapsed": false
   }
  },
  {
   "cell_type": "code",
   "execution_count": 1,
   "outputs": [],
   "source": [
    "with open('input/input8.txt') as f:\n",
    "    data = [l.rstrip() for l in f]"
   ],
   "metadata": {
    "collapsed": false
   }
  },
  {
   "cell_type": "code",
   "execution_count": 2,
   "outputs": [],
   "source": [
    "h = len(data)\n",
    "w = len(data[0])\n",
    "\n",
    "tree = {}\n",
    "for i in range(h):\n",
    "    for j in range(w):\n",
    "        tree[(i,j)] = int(data[j][i])"
   ],
   "metadata": {
    "collapsed": false
   }
  },
  {
   "cell_type": "markdown",
   "source": [
    "## Part 1"
   ],
   "metadata": {
    "collapsed": false
   }
  },
  {
   "cell_type": "code",
   "execution_count": 3,
   "outputs": [],
   "source": [
    "def isVisible(i,j):\n",
    "    rLeft = range(i)\n",
    "    rRight = range(i+1, w)\n",
    "    rUp = range(j)\n",
    "    rDown = range(j+1, h)\n",
    "\n",
    "    left = all([tree[(i,j)] > tree[(x,j)] for x in rLeft])\n",
    "    right = all([tree[(i,j)] > tree[(x,j)] for x in rRight])\n",
    "    up = all([tree[(i,j)] > tree[(i,y)] for y in rUp])\n",
    "    down = all([tree[(i,j)] > tree[(i,y)] for y in rDown])\n",
    "\n",
    "    return left, right, up, down"
   ],
   "metadata": {
    "collapsed": false
   }
  },
  {
   "cell_type": "code",
   "execution_count": 4,
   "outputs": [
    {
     "data": {
      "text/plain": "1851"
     },
     "execution_count": 4,
     "metadata": {},
     "output_type": "execute_result"
    }
   ],
   "source": [
    "sum([any(isVisible(*t)) for t in tree.keys()])"
   ],
   "metadata": {
    "collapsed": false
   }
  },
  {
   "cell_type": "markdown",
   "source": [
    "## Part 2"
   ],
   "metadata": {
    "collapsed": false
   }
  },
  {
   "cell_type": "code",
   "execution_count": 5,
   "outputs": [],
   "source": [
    "def visibility(t, path):\n",
    "    visibility = 0\n",
    "    for p in path:\n",
    "        if p >= t:\n",
    "            visibility += 1\n",
    "            break\n",
    "        else:\n",
    "            visibility += 1\n",
    "    return visibility"
   ],
   "metadata": {
    "collapsed": false
   }
  },
  {
   "cell_type": "code",
   "execution_count": 6,
   "outputs": [],
   "source": [
    "def scenicScore(i,j):\n",
    "    rLeft = range(i)\n",
    "    rRight = range(i+1, w)\n",
    "    rUp = range(j)\n",
    "    rDown = range(j+1, h)\n",
    "\n",
    "    left = visibility(tree[(i,j)], [tree[(x,j)] for x in rLeft][::-1])\n",
    "    right = visibility(tree[(i,j)], [tree[(x,j)] for x in rRight])\n",
    "    up = visibility(tree[(i,j)], [tree[(i,y)] for y in rUp][::-1])\n",
    "    down = visibility(tree[(i,j)], [tree[(i,y)] for y in rDown])\n",
    "\n",
    "    return up*left*right*down"
   ],
   "metadata": {
    "collapsed": false
   }
  },
  {
   "cell_type": "code",
   "execution_count": null,
   "outputs": [],
   "source": [],
   "metadata": {
    "collapsed": false
   }
  }
 ],
 "metadata": {
  "kernelspec": {
   "display_name": "Python 3",
   "language": "python",
   "name": "python3"
  },
  "language_info": {
   "codemirror_mode": {
    "name": "ipython",
    "version": 2
   },
   "file_extension": ".py",
   "mimetype": "text/x-python",
   "name": "python",
   "nbconvert_exporter": "python",
   "pygments_lexer": "ipython2",
   "version": "2.7.6"
  }
 },
 "nbformat": 4,
 "nbformat_minor": 0
}
