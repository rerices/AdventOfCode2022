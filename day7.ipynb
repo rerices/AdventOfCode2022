{
 "cells": [
  {
   "cell_type": "markdown",
   "source": [
    "# AoC 2022 - Day 7"
   ],
   "metadata": {
    "collapsed": false
   }
  },
  {
   "cell_type": "code",
   "execution_count": 1,
   "outputs": [],
   "source": [
    "with open('input/input7.txt') as f:\n",
    "    data = [l.rstrip() for l in f]"
   ],
   "metadata": {
    "collapsed": false
   }
  },
  {
   "cell_type": "code",
   "execution_count": 2,
   "outputs": [],
   "source": [
    "def traverse_folder(mov, current, cpath):\n",
    "        if mov == \"$ cd /\":\n",
    "            return root, [root]\n",
    "        if mov == '$ cd ..':\n",
    "            return cpath[-1], cpath[:-1]\n",
    "        else:\n",
    "            mov = mov.split(' ')\n",
    "            return current[mov[2]], cpath + [current]"
   ],
   "metadata": {
    "collapsed": false
   }
  },
  {
   "cell_type": "code",
   "execution_count": 3,
   "outputs": [],
   "source": [
    "def fill_folder(item, current):\n",
    "    item = item.split(' ')\n",
    "    if item[0] == 'dir':\n",
    "        current[item[1]] = {}\n",
    "    else:\n",
    "        current[item[1]] = int(item[0])\n",
    "    return current"
   ],
   "metadata": {
    "collapsed": false
   }
  },
  {
   "cell_type": "code",
   "execution_count": 4,
   "outputs": [],
   "source": [
    "def folder_size(folder):\n",
    "    for k,v in folder.items():\n",
    "        if type(v) == dict:\n",
    "            folder[k] = folder_size(v)\n",
    "        else:\n",
    "            pass\n",
    "    total_size = sum(list(folder.values()))\n",
    "    folder_sizes.append(total_size)\n",
    "    return total_size"
   ],
   "metadata": {
    "collapsed": false
   }
  },
  {
   "cell_type": "code",
   "execution_count": 5,
   "outputs": [],
   "source": [
    "# Fill Folder Structure\n",
    "root = {}\n",
    "current = root\n",
    "cpath = [root]\n",
    "\n",
    "for mov in data:\n",
    "    if mov.startswith(\"$ cd\"):\n",
    "        current, cpath = traverse_folder(mov, current, cpath)\n",
    "    elif mov == \"$ ls\":\n",
    "        pass\n",
    "    else:\n",
    "        current = fill_folder(mov, current)"
   ],
   "metadata": {
    "collapsed": false
   }
  },
  {
   "cell_type": "code",
   "execution_count": 6,
   "outputs": [
    {
     "data": {
      "text/plain": "1077191"
     },
     "execution_count": 6,
     "metadata": {},
     "output_type": "execute_result"
    }
   ],
   "source": [
    "# Part 1\n",
    "folder_sizes = []\n",
    "root_size = folder_size(root)\n",
    "sum([s for s in folder_sizes if s <= 100000])"
   ],
   "metadata": {
    "collapsed": false
   }
  },
  {
   "cell_type": "code",
   "execution_count": 7,
   "outputs": [
    {
     "data": {
      "text/plain": "5649896"
     },
     "execution_count": 7,
     "metadata": {},
     "output_type": "execute_result"
    }
   ],
   "source": [
    "# Part 2\n",
    "min([s for s in folder_sizes if s >= 30000000 - (70000000 - root_size)])"
   ],
   "metadata": {
    "collapsed": false
   }
  }
 ],
 "metadata": {
  "kernelspec": {
   "display_name": "Python 3",
   "language": "python",
   "name": "python3"
  },
  "language_info": {
   "codemirror_mode": {
    "name": "ipython",
    "version": 2
   },
   "file_extension": ".py",
   "mimetype": "text/x-python",
   "name": "python",
   "nbconvert_exporter": "python",
   "pygments_lexer": "ipython2",
   "version": "2.7.6"
  }
 },
 "nbformat": 4,
 "nbformat_minor": 0
}
