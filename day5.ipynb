{
 "cells": [
  {
   "cell_type": "markdown",
   "source": [
    "# AoC 2022 - Day 5"
   ],
   "metadata": {
    "collapsed": false
   }
  },
  {
   "cell_type": "code",
   "execution_count": 1,
   "outputs": [],
   "source": [
    "import re"
   ],
   "metadata": {
    "collapsed": false
   }
  },
  {
   "cell_type": "code",
   "execution_count": 2,
   "outputs": [],
   "source": [
    "with open('input/input5.txt') as f:\n",
    "    data = [l.rstrip() for l in f.readlines()]\n",
    "    dbreak = data.index('')\n",
    "    crates = data[:dbreak]\n",
    "    moves = data[dbreak+1:]"
   ],
   "metadata": {
    "collapsed": false
   }
  },
  {
   "cell_type": "code",
   "execution_count": 3,
   "outputs": [],
   "source": [
    "def load_stacks():\n",
    "    stacks = {(i+1):list() for i in range(int(crates[-1][-1]))}\n",
    "\n",
    "    for line in crates[:-1]:\n",
    "        for c in range(len(line)):\n",
    "            if ((c + 1) % 4 == 1) and (line[c+1] != ' '):\n",
    "                stacks[int(c/4)+1].append(line[c+1])\n",
    "\n",
    "    for k in stacks.keys():\n",
    "        stacks[k].reverse()\n",
    "\n",
    "    return stacks"
   ],
   "metadata": {
    "collapsed": false
   }
  },
  {
   "cell_type": "code",
   "execution_count": 4,
   "outputs": [],
   "source": [
    "def move(m, p1 = True):\n",
    "    q, s, f = int(m[0]), int(m[1]), int(m[2])\n",
    "\n",
    "    if p1:\n",
    "        for i in range(q):\n",
    "            stacks[f].append(stacks[s].pop())\n",
    "\n",
    "    else:\n",
    "        aux = list()\n",
    "        for i in range(q):\n",
    "            aux.append(stacks[s].pop())\n",
    "        aux.reverse()\n",
    "        stacks[f] = stacks[f] + aux"
   ],
   "metadata": {
    "collapsed": false
   }
  },
  {
   "cell_type": "markdown",
   "source": [
    "## Part 1"
   ],
   "metadata": {
    "collapsed": false
   }
  },
  {
   "cell_type": "code",
   "execution_count": 5,
   "outputs": [
    {
     "data": {
      "text/plain": "'CVCWCRTVQ'"
     },
     "execution_count": 5,
     "metadata": {},
     "output_type": "execute_result"
    }
   ],
   "source": [
    "stacks = load_stacks()\n",
    "\n",
    "[move(re.findall('(\\d+)', m)) for m in moves];\n",
    "''.join([stacks[s][-1] for s in stacks.keys()])"
   ],
   "metadata": {
    "collapsed": false
   }
  },
  {
   "cell_type": "markdown",
   "source": [
    "## Part 2"
   ],
   "metadata": {
    "collapsed": false
   }
  },
  {
   "cell_type": "code",
   "execution_count": 6,
   "outputs": [
    {
     "data": {
      "text/plain": "'CNSCZWLVT'"
     },
     "execution_count": 6,
     "metadata": {},
     "output_type": "execute_result"
    }
   ],
   "source": [
    "stacks = load_stacks()\n",
    "\n",
    "[move(re.findall('(\\d+)', m), False) for m in moves];\n",
    "''.join([stacks[s][-1] for s in stacks.keys()])"
   ],
   "metadata": {
    "collapsed": false
   }
  }
 ],
 "metadata": {
  "kernelspec": {
   "display_name": "Python 3",
   "language": "python",
   "name": "python3"
  },
  "language_info": {
   "codemirror_mode": {
    "name": "ipython",
    "version": 2
   },
   "file_extension": ".py",
   "mimetype": "text/x-python",
   "name": "python",
   "nbconvert_exporter": "python",
   "pygments_lexer": "ipython2",
   "version": "2.7.6"
  }
 },
 "nbformat": 4,
 "nbformat_minor": 0
}
